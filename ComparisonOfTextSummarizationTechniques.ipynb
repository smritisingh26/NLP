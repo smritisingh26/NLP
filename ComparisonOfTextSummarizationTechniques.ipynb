{
 "cells": [
  {
   "cell_type": "markdown",
   "metadata": {},
   "source": [
    "## PART 1: PREPARING DATA "
   ]
  },
  {
   "cell_type": "markdown",
   "metadata": {},
   "source": [
    "Before we before the process of text summarization, we must make the text to be summarized easily accessible."
   ]
  },
  {
   "cell_type": "code",
   "execution_count": 1,
   "metadata": {},
   "outputs": [],
   "source": [
    "text=''' “To be ‘feminist’ in any authentic sense of the term is to want for all people, female and male, liberation from sexist role patterns, domination, and oppression.” bell hooks made this clear and powerful statement in her 1981 study of sexism, racism, and the feminist and civil rights movements Ain't I a Woman: Black Women and Feminism. Almost 40 years on, the world is still reckoning with pervasive and inexcusable gender inequality underpinned by bias and sexism, and research and health care are no exception. Today, The Lancet publishes a theme issue on advancing women in science, medicine, and global health, with the aim of showcasing research, commentary, and analysis that provide new explanations and evidence for action towards gender equity. This theme issue is the result of a call for papers that led to over 300 submissions from more than 40 countries. The overwhelming conclusion from this collection of work is that, to achieve meaningful change, actions must be directed at transforming the systems that women work within—making approaches informed by feminist analyses essential.\n",
    "It is well established that women are under-represented in positions of power and leadership, undervalued, and experience discrimination and gender-based violence in scientific and health disciplines across the world. Intersectional approaches have provided insights into how other categories of difference such as ethnicity, class, geography, disability, and sexuality interact with gender to compound inequalities. Most submissions to this theme issue came from high-income countries, highlighting the need to support scholarship from the Global South. Geordan Shannon and colleagues provide a global overview of gender inequality in science, medicine, and global health, and discuss the evidence for the substantial health, social, and economic gains that could be achieved by addressing this inequality. Indeed, some studies, including one in this issue by Cassidy Sugimoto and colleagues, show that more diverse and inclusive teams lead to better science and more successful organisations.\n",
    "Despite decades of recognition, these problems have proved stubbornly persistent. It is now commonplace for organisations to make public statements valuing diversity, hire diversity officers, and implement programmes to advance women's careers. Yet, all too often, such programmes locate the source of the problem, and hence the solution, within women and their own behaviour. Thus, although actions such as mentoring and skills training might be well intentioned and advantageous to a degree, they often fail to engage with broader features of systems that disproportionately privilege men. For instance, Holly Witteman and colleagues show, using data from a federal funder, how gender bias disadvantages women applying for grant funding.\n",
    "Reflecting on these biases can be difficult for professions like science and medicine that are grounded in beliefs of their own objectivity and evidence-driven thinking. A trio of papers in this issue demonstrates the value of critical perspectives in this regard. Malika Sharma explains how the “historical gendering of medicine prioritises particular types of knowledge (and ways of producing that knowledge), and creates barriers for critical, and specifically feminist, research and practice”. Feminist and other critical perspectives enable researchers to question the underlying assumptions that produce and maintain social hierarchies, and in doing so, imagine ways to transform fields and practices to make them more equitable and inclusive. Likewise, Sara Davies and colleagues argue that a feminist research agenda is key to advancing gender equality in global health, and Kopano Ratele and colleagues explain why efforts to engage men in advancing gender equality must be grounded in an appreciation of theories of masculinity.\n",
    "For actions to have lasting and far-reaching consequences, they must therefore be directed at creating institutional-level change. Several pieces in this theme issue discuss such approaches, with a Review by Imogen Coe and colleagues providing a toolbox of organisational best practices towards gender equality in science and medicine. The Lancet's commitments to addressing gender bias in publishing are detailed in a Comment. Gender equity is not only a matter of justice and rights, it is crucial for producing the best research and providing the best care to patients. If the fields of science, medicine, and global health are to hope to work towards improving human lives, they must be representative of the societies they serve. The fight for gender equity is everyone's responsibility, and this means that feminism, too, is for everybody—for men and women, researchers, clinicians, funders, institutional leaders, and, yes, even for medical journals.\n",
    "'''"
   ]
  },
  {
   "cell_type": "code",
   "execution_count": 2,
   "metadata": {},
   "outputs": [
    {
     "name": "stdout",
     "output_type": "stream",
     "text": [
      " “To be ‘feminist’ in any authentic sense of the term is to want for all people, female and male, liberation from sexist role patterns, domination, and oppression.” bell hooks made this clear and powerful statement in her 1981 study of sexism, racism, and the feminist and civil rights movements Ain't I a Woman: Black Women and Feminism. Almost 40 years on, the world is still reckoning with pervasive and inexcusable gender inequality underpinned by bias and sexism, and research and health care are no exception. Today, The Lancet publishes a theme issue on advancing women in science, medicine, and global health, with the aim of showcasing research, commentary, and analysis that provide new explanations and evidence for action towards gender equity. This theme issue is the result of a call for papers that led to over 300 submissions from more than 40 countries. The overwhelming conclusion from this collection of work is that, to achieve meaningful change, actions must be directed at transforming the systems that women work within—making approaches informed by feminist analyses essential.\n",
      "It is well established that women are under-represented in positions of power and leadership, undervalued, and experience discrimination and gender-based violence in scientific and health disciplines across the world. Intersectional approaches have provided insights into how other categories of difference such as ethnicity, class, geography, disability, and sexuality interact with gender to compound inequalities. Most submissions to this theme issue came from high-income countries, highlighting the need to support scholarship from the Global South. Geordan Shannon and colleagues provide a global overview of gender inequality in science, medicine, and global health, and discuss the evidence for the substantial health, social, and economic gains that could be achieved by addressing this inequality. Indeed, some studies, including one in this issue by Cassidy Sugimoto and colleagues, show that more diverse and inclusive teams lead to better science and more successful organisations.\n",
      "Despite decades of recognition, these problems have proved stubbornly persistent. It is now commonplace for organisations to make public statements valuing diversity, hire diversity officers, and implement programmes to advance women's careers. Yet, all too often, such programmes locate the source of the problem, and hence the solution, within women and their own behaviour. Thus, although actions such as mentoring and skills training might be well intentioned and advantageous to a degree, they often fail to engage with broader features of systems that disproportionately privilege men. For instance, Holly Witteman and colleagues show, using data from a federal funder, how gender bias disadvantages women applying for grant funding.\n",
      "Reflecting on these biases can be difficult for professions like science and medicine that are grounded in beliefs of their own objectivity and evidence-driven thinking. A trio of papers in this issue demonstrates the value of critical perspectives in this regard. Malika Sharma explains how the “historical gendering of medicine prioritises particular types of knowledge (and ways of producing that knowledge), and creates barriers for critical, and specifically feminist, research and practice”. Feminist and other critical perspectives enable researchers to question the underlying assumptions that produce and maintain social hierarchies, and in doing so, imagine ways to transform fields and practices to make them more equitable and inclusive. Likewise, Sara Davies and colleagues argue that a feminist research agenda is key to advancing gender equality in global health, and Kopano Ratele and colleagues explain why efforts to engage men in advancing gender equality must be grounded in an appreciation of theories of masculinity.\n",
      "For actions to have lasting and far-reaching consequences, they must therefore be directed at creating institutional-level change. Several pieces in this theme issue discuss such approaches, with a Review by Imogen Coe and colleagues providing a toolbox of organisational best practices towards gender equality in science and medicine. The Lancet's commitments to addressing gender bias in publishing are detailed in a Comment. Gender equity is not only a matter of justice and rights, it is crucial for producing the best research and providing the best care to patients. If the fields of science, medicine, and global health are to hope to work towards improving human lives, they must be representative of the societies they serve. The fight for gender equity is everyone's responsibility, and this means that feminism, too, is for everybody—for men and women, researchers, clinicians, funders, institutional leaders, and, yes, even for medical journals.\n",
      "\n"
     ]
    }
   ],
   "source": [
    "print(text)"
   ]
  },
  {
   "cell_type": "markdown",
   "metadata": {},
   "source": [
    "## PART 2: SUMMARIZATION USING THE TF-IDF ALGORITHM"
   ]
  },
  {
   "cell_type": "code",
   "execution_count": 3,
   "metadata": {},
   "outputs": [],
   "source": [
    "#Importing all the necessary libraries \n",
    "import math\n",
    "from nltk import sent_tokenize, word_tokenize, PorterStemmer\n",
    "from nltk.corpus import stopwords\n",
    "#nltk.download('punkt')\n",
    "#nltk.download('stopwords')"
   ]
  },
  {
   "cell_type": "markdown",
   "metadata": {},
   "source": [
    "### Creating Functions: First, we'll focus on defining the functions needed to execute the summarization via TF-IDF."
   ]
  },
  {
   "cell_type": "code",
   "execution_count": 4,
   "metadata": {},
   "outputs": [],
   "source": [
    "#1:A function to create frequency tables \n",
    "def CreateFrequencyTable(text) -> dict:\n",
    "    stopWords=set(stopwords.words(\"english\"))\n",
    "    words=word_tokenize(text)\n",
    "    ps=PorterStemmer()\n",
    "    freqTable=dict()\n",
    "    for word in words:\n",
    "        word=ps.stem(word)\n",
    "        if word in stopWords:\n",
    "            continue\n",
    "        if word in freqTable:\n",
    "            freqTable[word]+=1\n",
    "        else:\n",
    "            freqTable[word]=1\n",
    "    return freqTable"
   ]
  },
  {
   "cell_type": "code",
   "execution_count": 5,
   "metadata": {},
   "outputs": [],
   "source": [
    "#2:A function to calculate the frequency of words in the text to be summarized.\n",
    "def CreateFrequencyMatrix(sentences):\n",
    "    frequency_matrix={}\n",
    "    stopWords=set(stopwords.words(\"english\"))\n",
    "    ps=PorterStemmer()\n",
    "    for sent in sentences:\n",
    "        freq_table={}\n",
    "        words=word_tokenize(sent)\n",
    "        for word in words:\n",
    "            word=word.lower()\n",
    "            word=ps.stem(word)\n",
    "            if word in stopWords:\n",
    "                continue\n",
    "            if word in freq_table:\n",
    "                freq_table[word]+=1\n",
    "            else:\n",
    "                freq_table[word]=1\n",
    "        frequency_matrix[sent[:15]]=freq_table\n",
    "    return frequency_matrix"
   ]
  },
  {
   "cell_type": "code",
   "execution_count": 6,
   "metadata": {},
   "outputs": [],
   "source": [
    "#3: Defining a function which can calculate the term frequency \n",
    "def CreateTFmatrix(freq_matrix):\n",
    "    tf_matrix={}\n",
    "    for sent, f_table in freq_matrix.items():\n",
    "        tf_table={}\n",
    "        count_words_in_sentence=len(f_table)\n",
    "        for word, count in f_table.items():\n",
    "            tf_table[word]=count/count_words_in_sentence\n",
    "        tf_matrix[sent]=tf_table\n",
    "    return tf_matrix"
   ]
  },
  {
   "cell_type": "code",
   "execution_count": 7,
   "metadata": {},
   "outputs": [],
   "source": [
    "#4: Defining a function which can calculate the number of sentences that contain a word\n",
    "def SentPerWord(freq_matrix):\n",
    "    word_per_doc_table = {}\n",
    "    for sent, f_table in freq_matrix.items():\n",
    "        for word, count in f_table.items():\n",
    "            if word in word_per_doc_table:\n",
    "                word_per_doc_table[word]+=1\n",
    "            else:\n",
    "                word_per_doc_table[word]=1\n",
    "    return word_per_doc_table"
   ]
  },
  {
   "cell_type": "code",
   "execution_count": 8,
   "metadata": {},
   "outputs": [],
   "source": [
    "#5:Defining a function which calculates the IDF and gives a measure of how rarely a word occurs\n",
    "def CreateIDFmatrix(freq_matrix, count_doc_per_words, total_documents):\n",
    "    idf_matrix={}\n",
    "    for sent, f_table in freq_matrix.items():\n",
    "        idf_table={}\n",
    "        for word in f_table.keys():\n",
    "            idf_table[word]=math.log10(total_documents/float(count_doc_per_words[word]))\n",
    "        idf_matrix[sent]=idf_table\n",
    "    return idf_matrix"
   ]
  },
  {
   "cell_type": "code",
   "execution_count": 9,
   "metadata": {},
   "outputs": [],
   "source": [
    "#6:Finally, we define a function which generates a TFIDF matrix\n",
    "def CreateTFIDFmatrix(tf_matrix, idf_matrix):\n",
    "    tf_idf_matrix={}\n",
    "    for (sent1, f_table1), (sent2, f_table2) in zip(tf_matrix.items(), idf_matrix.items()):\n",
    "        tf_idf_table={}\n",
    "        for (word1, value1), (word2, value2) in zip(f_table1.items(),                                                    f_table2.items()):  # here, keys are the same in both the table\n",
    "            tf_idf_table[word1]=float(value1 * value2)\n",
    "        tf_idf_matrix[sent1]=tf_idf_table\n",
    "    return tf_idf_matrix"
   ]
  },
  {
   "cell_type": "code",
   "execution_count": 10,
   "metadata": {},
   "outputs": [],
   "source": [
    "#7:Scoring sentences using the obtained TF-IDF Matrix:\n",
    "def ScoreSent(tf_idf_matrix) -> dict:\n",
    "    sentenceValue={}\n",
    "    for sent, f_table in tf_idf_matrix.items():\n",
    "        total_score_per_sentence=0\n",
    "        count_words_in_sentence=len(f_table)\n",
    "        for word, score in f_table.items():\n",
    "            total_score_per_sentence+=score\n",
    "        sentenceValue[sent]=total_score_per_sentence/count_words_in_sentence\n",
    "    return sentenceValue"
   ]
  },
  {
   "cell_type": "code",
   "execution_count": 11,
   "metadata": {},
   "outputs": [],
   "source": [
    "#8:Defining a function which uses the above function to determine how important the sentences in the text are.\n",
    "def FindAvgScore(sentenceValue) -> int:\n",
    "    sumValues=0\n",
    "    for entry in sentenceValue:\n",
    "        sumValues+=sentenceValue[entry]\n",
    "    average=(sumValues / len(sentenceValue))\n",
    "    return average"
   ]
  },
  {
   "cell_type": "code",
   "execution_count": 12,
   "metadata": {},
   "outputs": [],
   "source": [
    "#9:A function to generate the summary \n",
    "def GenerateSummary(sentences, sentenceValue, threshold):\n",
    "    sentence_count=0\n",
    "    summary=''\n",
    "    for sentence in sentences:\n",
    "        if sentence[:15] in sentenceValue and sentenceValue[sentence[:15]]>=(threshold):\n",
    "            summary+=\" \"+sentence\n",
    "            sentence_count+=1\n",
    "    return summary"
   ]
  },
  {
   "cell_type": "markdown",
   "metadata": {},
   "source": [
    "### Calling Functions: Now that we have defined all  the required functions, we use them on the text which was initialised earlier. For the sake of reusability, we define the order of the function calls in another function."
   ]
  },
  {
   "cell_type": "code",
   "execution_count": 13,
   "metadata": {},
   "outputs": [],
   "source": [
    "#Now, we use all the functions above to generate the summary we require. \n",
    "def run_summarization(text):\n",
    "    \n",
    "    #Step1:Tokenizing the Sentences\n",
    "    Sentences=sent_tokenize(text)\n",
    "    TotalDocs=len(Sentences)\n",
    "    \n",
    "    #Step2:Creating the Frequency matrix of the words in each sentence.\n",
    "    FreqMatrix=CreateFrequencyMatrix(Sentences)\n",
    "\n",
    "    #Step3:Calculating Term Frequency and generating a matrix which indicates how frequently a word occurs\n",
    "    TFmatrix=CreateTFmatrix(FreqMatrix)\n",
    "\n",
    "    #Step4:Determing how many sentences contain a particular word \n",
    "    SPW=SentPerWord(FreqMatrix)\n",
    "\n",
    "    #Step5:Generating an IDF matrix which will reflect some of the rarely occuring words.\n",
    "    IDFmatrix=CreateIDFmatrix(FreqMatrix,SPW,TotalDocs)\n",
    "\n",
    "    #Step6:Calculating TF-IDF matrix\n",
    "    TFIDFM=CreateTFIDFmatrix(TFmatrix,IDFmatrix)\n",
    "\n",
    "    #Step7:Scoring the tokenized sentences\n",
    "    SentScore=ScoreSent(TFIDFM)\n",
    "\n",
    "    #Step8:Using the above score, find the threshold appropriate to generate the summary.\n",
    "    Threshold=FindAvgScore(SentScore)\n",
    "    #print(threshold)\n",
    "\n",
    "    #Step9:Generating the Summary\n",
    "    Summary=GenerateSummary(Sentences,SentScore,1.3*Threshold)\n",
    "    return Summary"
   ]
  },
  {
   "cell_type": "code",
   "execution_count": 14,
   "metadata": {},
   "outputs": [
    {
     "name": "stdout",
     "output_type": "stream",
     "text": [
      " This theme issue is the result of a call for papers that led to over 300 submissions from more than 40 countries. Despite decades of recognition, these problems have proved stubbornly persistent. Yet, all too often, such programmes locate the source of the problem, and hence the solution, within women and their own behaviour. Reflecting on these biases can be difficult for professions like science and medicine that are grounded in beliefs of their own objectivity and evidence-driven thinking. A trio of papers in this issue demonstrates the value of critical perspectives in this regard. For actions to have lasting and far-reaching consequences, they must therefore be directed at creating institutional-level change. The Lancet's commitments to addressing gender bias in publishing are detailed in a Comment.\n"
     ]
    }
   ],
   "source": [
    "#Step10:Calling the function which generates the summary\n",
    "if __name__ == '__main__':\n",
    "    result=run_summarization(text)\n",
    "    print(result)"
   ]
  },
  {
   "cell_type": "markdown",
   "metadata": {},
   "source": [
    "### ANALYSIS:"
   ]
  },
  {
   "cell_type": "markdown",
   "metadata": {},
   "source": [
    "We find that the summary is coherent, contextually relevant and informative. However, it is also noteworthy that it is vague. The article was originally based on feminism and just by reading the summary, a reader might not understand that. Furthermore, the ending seems to be rather abrupt."
   ]
  },
  {
   "cell_type": "markdown",
   "metadata": {},
   "source": [
    "## PART 3: SUMMARIZATION USING THE TEXT RANK ALGORITHM"
   ]
  },
  {
   "cell_type": "markdown",
   "metadata": {},
   "source": [
    "The Text Rank Algorithm is based on the PageRank Algorithm, which is used to rank websites for different web searches. In case of PageRank, we determine the probability of a user going from one page to another and the TextRank algorithm works the same way. Instead of webpages, we use sentences. "
   ]
  },
  {
   "cell_type": "markdown",
   "metadata": {},
   "source": [
    "### NOTE: The TextRank Algorithm has already been built into a summarize function available in 'gensim', an open source library for unsupervised topic modelling and natural language processing."
   ]
  },
  {
   "cell_type": "markdown",
   "metadata": {},
   "source": [
    "Since our focus is on comparing the text summarization techniques, we'll implement the textrank algorithm directly."
   ]
  },
  {
   "cell_type": "code",
   "execution_count": 16,
   "metadata": {},
   "outputs": [],
   "source": [
    "#Importing the necessary libraries\n",
    "from gensim.summarization.summarizer import summarize\n",
    "from gensim.summarization import keywords"
   ]
  },
  {
   "cell_type": "code",
   "execution_count": 20,
   "metadata": {},
   "outputs": [
    {
     "name": "stdout",
     "output_type": "stream",
     "text": [
      "Today, The Lancet publishes a theme issue on advancing women in science, medicine, and global health, with the aim of showcasing research, commentary, and analysis that provide new explanations and evidence for action towards gender equity.\n",
      "The overwhelming conclusion from this collection of work is that, to achieve meaningful change, actions must be directed at transforming the systems that women work within—making approaches informed by feminist analyses essential.\n",
      "Geordan Shannon and colleagues provide a global overview of gender inequality in science, medicine, and global health, and discuss the evidence for the substantial health, social, and economic gains that could be achieved by addressing this inequality.\n",
      "Several pieces in this theme issue discuss such approaches, with a Review by Imogen Coe and colleagues providing a toolbox of organisational best practices towards gender equality in science and medicine.\n"
     ]
    }
   ],
   "source": [
    "print(summarize(text,word_count=125))"
   ]
  },
  {
   "cell_type": "markdown",
   "metadata": {},
   "source": [
    "### ANALYSIS: "
   ]
  },
  {
   "cell_type": "markdown",
   "metadata": {},
   "source": [
    "Not only is the above summary coherent, gramatically correct, contextually relevant and informative, it is also clear. It is very evident to any reader that the article focuses on feminism. Apart from this, the summary is also well structured. "
   ]
  },
  {
   "cell_type": "markdown",
   "metadata": {},
   "source": [
    "## PART 4: COMPARSION OF OBTAINED SUMMARIES"
   ]
  },
  {
   "cell_type": "markdown",
   "metadata": {},
   "source": [
    "### On the Basis of Documents:"
   ]
  },
  {
   "cell_type": "markdown",
   "metadata": {},
   "source": [
    "Both algorithms have been used for single document summarization here. However, it is noteworthy that the TextRank algorithm can and is often used for multi-document summarization. On the contrary, the TFIDF Algorithm is mostly used for single document summarization. "
   ]
  },
  {
   "cell_type": "markdown",
   "metadata": {},
   "source": [
    "### On the Basis of Nature:"
   ]
  },
  {
   "cell_type": "markdown",
   "metadata": {},
   "source": [
    "Both algorithms are extractive in nature. This means that both technqiues focus on finding the essential sections of the original text and generating summaries by using them."
   ]
  },
  {
   "cell_type": "markdown",
   "metadata": {},
   "source": [
    "### On the Basis of Discourse:"
   ]
  },
  {
   "cell_type": "markdown",
   "metadata": {},
   "source": [
    "The TextRank algorithm is a graph based approach, whereas the TF-IDF algorithm is a frequency based approach and mostly relies purely on math."
   ]
  },
  {
   "cell_type": "markdown",
   "metadata": {},
   "source": [
    "### Text Quality:"
   ]
  },
  {
   "cell_type": "markdown",
   "metadata": {},
   "source": [
    "Both summaries are gramatically accurate and coherent. They are informative and non-redundant. It is observed that the summary obtained through the TextRank Algorithm is more structured and thus provides more information to whoever reads it. Also, it is evident that the summary obtained through the TextRank algorithm is more clear than the other."
   ]
  },
  {
   "cell_type": "markdown",
   "metadata": {},
   "source": [
    "### Nature of Summary: "
   ]
  },
  {
   "cell_type": "markdown",
   "metadata": {},
   "source": [
    "While the TF-IDF summary provides clear statistical insights, the TextRank summary gives a contextually clear and focused picture of the topic being discussed. Thus, it is intuitively evident that the point of discussion is feminism after reading the latter summary. This is not the case for the TF-IDF summary."
   ]
  },
  {
   "cell_type": "markdown",
   "metadata": {},
   "source": [
    "### Conclusive Comparison:"
   ]
  },
  {
   "cell_type": "markdown",
   "metadata": {},
   "source": [
    "The TextRank Summary being well structured and coherent, is a generalised one, useful for all readers. On the other hand, the TF-IDF Summary will be useful for readers who are topic oriented, i.e those who are looking for information on feminism. "
   ]
  },
  {
   "cell_type": "markdown",
   "metadata": {},
   "source": [
    "### Link for Text used as dataset here:\n"
   ]
  },
  {
   "cell_type": "markdown",
   "metadata": {},
   "source": [
    "https://www.thelancet.com/journals/lancet/article/PIIS0140-6736(19)30239-9/fulltext"
   ]
  }
 ],
 "metadata": {
  "kernelspec": {
   "display_name": "Python 3",
   "language": "python",
   "name": "python3"
  },
  "language_info": {
   "codemirror_mode": {
    "name": "ipython",
    "version": 3
   },
   "file_extension": ".py",
   "mimetype": "text/x-python",
   "name": "python",
   "nbconvert_exporter": "python",
   "pygments_lexer": "ipython3",
   "version": "3.7.3"
  }
 },
 "nbformat": 4,
 "nbformat_minor": 2
}
